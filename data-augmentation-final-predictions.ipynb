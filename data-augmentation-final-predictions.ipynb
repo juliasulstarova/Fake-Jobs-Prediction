{
 "cells": [
  {
   "cell_type": "markdown",
   "id": "a4cc035e",
   "metadata": {
    "papermill": {
     "duration": 0.006649,
     "end_time": "2023-04-05T12:17:52.909580",
     "exception": false,
     "start_time": "2023-04-05T12:17:52.902931",
     "status": "completed"
    },
    "tags": []
   },
   "source": [
    "## Packages"
   ]
  },
  {
   "cell_type": "code",
   "execution_count": 1,
   "id": "c386110b",
   "metadata": {
    "execution": {
     "iopub.execute_input": "2023-04-05T12:17:52.923613Z",
     "iopub.status.busy": "2023-04-05T12:17:52.922916Z",
     "iopub.status.idle": "2023-04-05T12:18:05.829616Z",
     "shell.execute_reply": "2023-04-05T12:18:05.828444Z"
    },
    "papermill": {
     "duration": 12.916381,
     "end_time": "2023-04-05T12:18:05.831789",
     "exception": false,
     "start_time": "2023-04-05T12:17:52.915408",
     "status": "completed"
    },
    "tags": []
   },
   "outputs": [
    {
     "name": "stdout",
     "output_type": "stream",
     "text": [
      "[nltk_data] Downloading package stopwords to /usr/share/nltk_data...\n",
      "[nltk_data]   Package stopwords is already up-to-date!\n",
      "[nltk_data] Downloading package wordnet to /usr/share/nltk_data...\n",
      "[nltk_data]   Package wordnet is already up-to-date!\n"
     ]
    },
    {
     "data": {
      "text/plain": [
       "True"
      ]
     },
     "execution_count": 1,
     "metadata": {},
     "output_type": "execute_result"
    }
   ],
   "source": [
    "import numpy as np \n",
    "import pandas as pd\n",
    "import matplotlib.pyplot as plt \n",
    "\n",
    "import re\n",
    "import nltk\n",
    "import nltk.corpus\n",
    "nltk.download('stopwords')\n",
    "from nltk.corpus import stopwords\n",
    "from nltk.stem.porter import PorterStemmer\n",
    "from nltk.stem import WordNetLemmatizer\n",
    "\n",
    "from sklearn.feature_extraction.text import CountVectorizer\n",
    "from sklearn.feature_extraction.text import TfidfTransformer\n",
    "from sklearn.model_selection import train_test_split\n",
    "\n",
    "from sklearn.metrics import classification_report\n",
    "\n",
    "from sklearn.linear_model import LogisticRegression\n",
    "from sklearn.naive_bayes import MultinomialNB\n",
    "from sklearn.svm import SVC\n",
    "from sklearn.ensemble import RandomForestClassifier\n",
    "from sklearn.metrics import classification_report\n",
    "\n",
    "from keras.models import Sequential\n",
    "from keras.layers import Dense, Dropout\n",
    "\n",
    "#nltk.download('punkt')\n",
    "nltk.download('wordnet')"
   ]
  },
  {
   "cell_type": "code",
   "execution_count": 2,
   "id": "6d510b71",
   "metadata": {
    "execution": {
     "iopub.execute_input": "2023-04-05T12:18:05.845362Z",
     "iopub.status.busy": "2023-04-05T12:18:05.844747Z",
     "iopub.status.idle": "2023-04-05T12:18:17.144646Z",
     "shell.execute_reply": "2023-04-05T12:18:17.143665Z"
    },
    "papermill": {
     "duration": 11.309106,
     "end_time": "2023-04-05T12:18:17.146769",
     "exception": false,
     "start_time": "2023-04-05T12:18:05.837663",
     "status": "completed"
    },
    "tags": []
   },
   "outputs": [
    {
     "name": "stdout",
     "output_type": "stream",
     "text": [
      "Collecting nlpaug\r\n",
      "  Downloading nlpaug-1.1.11-py3-none-any.whl (410 kB)\r\n",
      "\u001b[2K     \u001b[90m━━━━━━━━━━━━━━━━━━━━━━━━━━━━━━━━━━━━━━\u001b[0m \u001b[32m410.5/410.5 kB\u001b[0m \u001b[31m12.5 MB/s\u001b[0m eta \u001b[36m0:00:00\u001b[0m\r\n",
      "\u001b[?25hCollecting gdown>=4.0.0\r\n",
      "  Downloading gdown-4.7.1-py3-none-any.whl (15 kB)\r\n",
      "Requirement already satisfied: numpy>=1.16.2 in /opt/conda/lib/python3.7/site-packages (from nlpaug) (1.21.6)\r\n",
      "Requirement already satisfied: requests>=2.22.0 in /opt/conda/lib/python3.7/site-packages (from nlpaug) (2.28.2)\r\n",
      "Requirement already satisfied: pandas>=1.2.0 in /opt/conda/lib/python3.7/site-packages (from nlpaug) (1.3.5)\r\n",
      "Requirement already satisfied: beautifulsoup4 in /opt/conda/lib/python3.7/site-packages (from gdown>=4.0.0->nlpaug) (4.11.1)\r\n",
      "Requirement already satisfied: filelock in /opt/conda/lib/python3.7/site-packages (from gdown>=4.0.0->nlpaug) (3.9.0)\r\n",
      "Requirement already satisfied: tqdm in /opt/conda/lib/python3.7/site-packages (from gdown>=4.0.0->nlpaug) (4.64.1)\r\n",
      "Requirement already satisfied: six in /opt/conda/lib/python3.7/site-packages (from gdown>=4.0.0->nlpaug) (1.16.0)\r\n",
      "Requirement already satisfied: pytz>=2017.3 in /opt/conda/lib/python3.7/site-packages (from pandas>=1.2.0->nlpaug) (2022.7.1)\r\n",
      "Requirement already satisfied: python-dateutil>=2.7.3 in /opt/conda/lib/python3.7/site-packages (from pandas>=1.2.0->nlpaug) (2.8.2)\r\n",
      "Requirement already satisfied: charset-normalizer<4,>=2 in /opt/conda/lib/python3.7/site-packages (from requests>=2.22.0->nlpaug) (2.1.1)\r\n",
      "Requirement already satisfied: idna<4,>=2.5 in /opt/conda/lib/python3.7/site-packages (from requests>=2.22.0->nlpaug) (3.4)\r\n",
      "Requirement already satisfied: urllib3<1.27,>=1.21.1 in /opt/conda/lib/python3.7/site-packages (from requests>=2.22.0->nlpaug) (1.26.14)\r\n",
      "Requirement already satisfied: certifi>=2017.4.17 in /opt/conda/lib/python3.7/site-packages (from requests>=2.22.0->nlpaug) (2022.12.7)\r\n",
      "Requirement already satisfied: soupsieve>1.2 in /opt/conda/lib/python3.7/site-packages (from beautifulsoup4->gdown>=4.0.0->nlpaug) (2.3.2.post1)\r\n",
      "Requirement already satisfied: PySocks!=1.5.7,>=1.5.6 in /opt/conda/lib/python3.7/site-packages (from requests>=2.22.0->nlpaug) (1.7.1)\r\n",
      "Installing collected packages: gdown, nlpaug\r\n",
      "Successfully installed gdown-4.7.1 nlpaug-1.1.11\r\n",
      "\u001b[33mWARNING: Running pip as the 'root' user can result in broken permissions and conflicting behaviour with the system package manager. It is recommended to use a virtual environment instead: https://pip.pypa.io/warnings/venv\u001b[0m\u001b[33m\r\n",
      "\u001b[0mNote: you may need to restart the kernel to use updated packages.\n"
     ]
    }
   ],
   "source": [
    "pip install nlpaug"
   ]
  },
  {
   "cell_type": "code",
   "execution_count": 3,
   "id": "5ee17f08",
   "metadata": {
    "execution": {
     "iopub.execute_input": "2023-04-05T12:18:17.162137Z",
     "iopub.status.busy": "2023-04-05T12:18:17.161782Z",
     "iopub.status.idle": "2023-04-05T12:18:25.223056Z",
     "shell.execute_reply": "2023-04-05T12:18:25.220987Z"
    },
    "papermill": {
     "duration": 8.072402,
     "end_time": "2023-04-05T12:18:25.225911",
     "exception": false,
     "start_time": "2023-04-05T12:18:17.153509",
     "status": "completed"
    },
    "tags": []
   },
   "outputs": [],
   "source": [
    "import nlpaug as nlpaug\n",
    "import nlpaug.augmenter.word as naw"
   ]
  },
  {
   "cell_type": "markdown",
   "id": "08854e4f",
   "metadata": {
    "papermill": {
     "duration": 0.006181,
     "end_time": "2023-04-05T12:18:25.238937",
     "exception": false,
     "start_time": "2023-04-05T12:18:25.232756",
     "status": "completed"
    },
    "tags": []
   },
   "source": [
    "## Data Preprocessing"
   ]
  },
  {
   "cell_type": "code",
   "execution_count": 4,
   "id": "9ae56c49",
   "metadata": {
    "execution": {
     "iopub.execute_input": "2023-04-05T12:18:25.256361Z",
     "iopub.status.busy": "2023-04-05T12:18:25.255950Z",
     "iopub.status.idle": "2023-04-05T12:18:26.783670Z",
     "shell.execute_reply": "2023-04-05T12:18:26.781909Z"
    },
    "papermill": {
     "duration": 1.541298,
     "end_time": "2023-04-05T12:18:26.786832",
     "exception": false,
     "start_time": "2023-04-05T12:18:25.245534",
     "status": "completed"
    },
    "tags": []
   },
   "outputs": [],
   "source": [
    "data = pd.read_csv(\"/kaggle/input/real-or-fake-fake-jobposting-prediction/fake_job_postings.csv\")\n",
    "data.drop([\"salary_range\", \"department\"], axis='columns', inplace = True)\n",
    "\n",
    "#function to  get the country where the job is posted \n",
    "def country(text):\n",
    "    if type(text) != float: #location is not null\n",
    "         return text.split(',')[0]\n",
    "    else: return ' '\n",
    "#adding a column to the original dataset with the country where the job is posted    \n",
    "data['country'] = data.location.apply(country)\n",
    "\n",
    "# Creating a new dataset with jobs posted only in the US\n",
    "data_US = data[data[\"country\"] == 'US']\n",
    "data_US = data_US.reset_index()\n",
    "data_US.drop('index', axis = 'columns', inplace = True)\n",
    "\n",
    "#Adding a column that indicates the state where the job was posted\n",
    "def state(text):\n",
    "    if len(text) > 3: return text.split(',')[1]\n",
    "    else: return ' '    \n",
    "\n",
    "data_US['state'] = data_US.location.apply(state)\n",
    "#Creating two seperate datasets for real jobs and fake jobs in the US\n",
    "data_US_fake = data_US[data_US['fraudulent'] == 1]\n",
    "# Creating a new attribute, for each state we calculate the pecentage of fake jobs\n",
    "state_df = data_US.state.value_counts().to_frame().rename(columns = {'state' : 'no of jobs'})\n",
    "state_df['no of fake jobs'] = data_US_fake.state.value_counts()\n",
    "state_df['p_fake_jobs'] = (state_df['no of fake jobs'] / state_df['no of jobs'])\n",
    "#adding a new column to the US dataset, a percentage of fake jobs \n",
    "\n",
    "state_df.drop(' ', axis = 'index', inplace = True)\n",
    "states_percentage = state_df['p_fake_jobs'].to_dict()  #creating a dictionary with each state and the percentage of fake jobs to add the  value to the dataset\n",
    "data_US['percentage of fake jobs'] = data_US['state'].map(states_percentage)\n",
    "\n",
    "#Creating a column with all the textual data\n",
    "data_US_text = data_US[['title', 'location', 'company_profile', 'description', 'requirements', 'benefits',\n",
    "                        'employment_type', 'required_experience','required_education', 'industry', 'function', 'fraudulent']]\n",
    "data_US_text = data_US_text.fillna(' ')\n",
    "data_US_text['text'] = data_US_text['title'] + ' ' + data_US_text['location'] + ' ' + data_US_text['company_profile'] + ' '+ data_US_text['description'] + ' '+ data_US_text['requirements'] + ' '+ data_US_text['benefits'] + ' '+ data_US_text['employment_type'] + ' '+ data_US_text['required_experience'] + ' ' + data_US_text['required_education'] + ' '+ data_US_text['industry'] + ' ' + data_US_text['function']\n",
    "data_US_text.drop(columns = ['title', 'location', 'company_profile', 'description', 'requirements', 'benefits',\n",
    "                        'employment_type', 'required_experience','required_education', 'industry', 'function' ], inplace = True)\n",
    "\n",
    "del data\n",
    "del country\n",
    "del state\n",
    "del state_df\n",
    "del data_US\n",
    "del data_US_fake\n",
    "del states_percentage"
   ]
  },
  {
   "cell_type": "markdown",
   "id": "679b4cab",
   "metadata": {
    "papermill": {
     "duration": 0.007212,
     "end_time": "2023-04-05T12:18:26.802445",
     "exception": false,
     "start_time": "2023-04-05T12:18:26.795233",
     "status": "completed"
    },
    "tags": []
   },
   "source": [
    "## Train and Test split"
   ]
  },
  {
   "cell_type": "code",
   "execution_count": 5,
   "id": "3027e133",
   "metadata": {
    "execution": {
     "iopub.execute_input": "2023-04-05T12:18:26.818003Z",
     "iopub.status.busy": "2023-04-05T12:18:26.817683Z",
     "iopub.status.idle": "2023-04-05T12:18:26.829505Z",
     "shell.execute_reply": "2023-04-05T12:18:26.827612Z"
    },
    "papermill": {
     "duration": 0.022761,
     "end_time": "2023-04-05T12:18:26.831999",
     "exception": false,
     "start_time": "2023-04-05T12:18:26.809238",
     "status": "completed"
    },
    "tags": []
   },
   "outputs": [],
   "source": [
    "X = data_US_text['text']\n",
    "y = data_US_text.fraudulent\n",
    "X_train, X_test, y_train, y_test = train_test_split(X, y, test_size = 0.3, random_state=0)"
   ]
  },
  {
   "cell_type": "markdown",
   "id": "33bf8959",
   "metadata": {
    "papermill": {
     "duration": 0.006109,
     "end_time": "2023-04-05T12:18:26.844750",
     "exception": false,
     "start_time": "2023-04-05T12:18:26.838641",
     "status": "completed"
    },
    "tags": []
   },
   "source": [
    "## Augment Data"
   ]
  },
  {
   "cell_type": "code",
   "execution_count": 6,
   "id": "fef02a62",
   "metadata": {
    "execution": {
     "iopub.execute_input": "2023-04-05T12:18:26.859536Z",
     "iopub.status.busy": "2023-04-05T12:18:26.859159Z",
     "iopub.status.idle": "2023-04-05T12:18:26.869864Z",
     "shell.execute_reply": "2023-04-05T12:18:26.868631Z"
    },
    "papermill": {
     "duration": 0.020551,
     "end_time": "2023-04-05T12:18:26.872248",
     "exception": false,
     "start_time": "2023-04-05T12:18:26.851697",
     "status": "completed"
    },
    "tags": []
   },
   "outputs": [],
   "source": [
    "# seperate train data (X and y) in fraudulent and real cases. \n",
    "train_df = pd.concat([X_train, y_train], axis=1)\n",
    "test_df = pd.concat([X_test, y_test], axis=1)\n",
    "train_no = len(train_df)\n",
    "\n",
    "train_df_fake = train_df[train_df['fraudulent'] == 1]\n",
    "\n",
    "del X_train\n",
    "del X_test\n",
    "del y_train\n",
    "del y_test"
   ]
  },
  {
   "cell_type": "code",
   "execution_count": 7,
   "id": "79e20968",
   "metadata": {
    "execution": {
     "iopub.execute_input": "2023-04-05T12:18:26.887513Z",
     "iopub.status.busy": "2023-04-05T12:18:26.887143Z",
     "iopub.status.idle": "2023-04-05T12:18:37.586950Z",
     "shell.execute_reply": "2023-04-05T12:18:37.585621Z"
    },
    "papermill": {
     "duration": 10.710321,
     "end_time": "2023-04-05T12:18:37.589578",
     "exception": false,
     "start_time": "2023-04-05T12:18:26.879257",
     "status": "completed"
    },
    "tags": []
   },
   "outputs": [
    {
     "name": "stdout",
     "output_type": "stream",
     "text": [
      "[nltk_data] Downloading package wordnet to /usr/share/nltk_data...\n",
      "[nltk_data]   Package wordnet is already up-to-date!\n",
      "[nltk_data] Downloading package omw-1.4 to /usr/share/nltk_data...\n"
     ]
    },
    {
     "data": {
      "application/vnd.jupyter.widget-view+json": {
       "model_id": "942abd5492c4441c8aca3cbf8f6277b7",
       "version_major": 2,
       "version_minor": 0
      },
      "text/plain": [
       "Downloading (…)lve/main/config.json:   0%|          | 0.00/481 [00:00<?, ?B/s]"
      ]
     },
     "metadata": {},
     "output_type": "display_data"
    },
    {
     "data": {
      "application/vnd.jupyter.widget-view+json": {
       "model_id": "5647e044f16d4599954ee59293bbef29",
       "version_major": 2,
       "version_minor": 0
      },
      "text/plain": [
       "Downloading (…)olve/main/vocab.json:   0%|          | 0.00/899k [00:00<?, ?B/s]"
      ]
     },
     "metadata": {},
     "output_type": "display_data"
    },
    {
     "data": {
      "application/vnd.jupyter.widget-view+json": {
       "model_id": "7b5aa83bb0ba4b5f8c6edde46db2384a",
       "version_major": 2,
       "version_minor": 0
      },
      "text/plain": [
       "Downloading (…)olve/main/merges.txt:   0%|          | 0.00/456k [00:00<?, ?B/s]"
      ]
     },
     "metadata": {},
     "output_type": "display_data"
    },
    {
     "data": {
      "application/vnd.jupyter.widget-view+json": {
       "model_id": "9162f3820fe34c3697cbb99a552a2d54",
       "version_major": 2,
       "version_minor": 0
      },
      "text/plain": [
       "Downloading (…)/main/tokenizer.json:   0%|          | 0.00/1.36M [00:00<?, ?B/s]"
      ]
     },
     "metadata": {},
     "output_type": "display_data"
    },
    {
     "data": {
      "application/vnd.jupyter.widget-view+json": {
       "model_id": "01b7ddbf8fd24e10a76e67a67f26a895",
       "version_major": 2,
       "version_minor": 0
      },
      "text/plain": [
       "Downloading pytorch_model.bin:   0%|          | 0.00/501M [00:00<?, ?B/s]"
      ]
     },
     "metadata": {},
     "output_type": "display_data"
    }
   ],
   "source": [
    "aug_syn = naw.SynonymAug(aug_src = 'wordnet', lang = 'eng')\n",
    "aug_emb = naw.ContextualWordEmbsAug(model_path = 'roberta-base', action = \"insert\")"
   ]
  },
  {
   "cell_type": "code",
   "execution_count": 8,
   "id": "880b3914",
   "metadata": {
    "execution": {
     "iopub.execute_input": "2023-04-05T12:18:37.606429Z",
     "iopub.status.busy": "2023-04-05T12:18:37.606051Z",
     "iopub.status.idle": "2023-04-05T12:18:37.614646Z",
     "shell.execute_reply": "2023-04-05T12:18:37.613403Z"
    },
    "papermill": {
     "duration": 0.020139,
     "end_time": "2023-04-05T12:18:37.617099",
     "exception": false,
     "start_time": "2023-04-05T12:18:37.596960",
     "status": "completed"
    },
    "tags": []
   },
   "outputs": [],
   "source": [
    "def augment(X, y): #input is series\n",
    "    list_aug_text = []\n",
    "    list_aug_label = []\n",
    "    num = 1\n",
    "    all = len(X)\n",
    "    for i in X.index:\n",
    "        print(str(round((num/all)*100)) + '% done')\n",
    "        num += 1\n",
    "        aug_text = aug_syn.augment(X[i])\n",
    "        aug_text = aug_emb.augment(aug_text[0])\n",
    "        list_aug_text.append(aug_text[0])\n",
    "        list_aug_label.append(y[i])\n",
    "  \n",
    "    list_aug_text_series = pd.Series(list_aug_text)\n",
    "    list_aug_label_series = pd.Series(list_aug_label)\n",
    "\n",
    "    X_augmented = X.append(list_aug_text_series, ignore_index = True)\n",
    "    y_augmented = y.append(list_aug_label_series, ignore_index = True)\n",
    "\n",
    "    return X_augmented, y_augmented #series\n",
    "\n",
    "#X_fake_aug, y_fake_aug = augment(train_df_fake.text, train_df_fake.fraudulent)"
   ]
  },
  {
   "cell_type": "code",
   "execution_count": 9,
   "id": "02c827fe",
   "metadata": {
    "execution": {
     "iopub.execute_input": "2023-04-05T12:18:37.633095Z",
     "iopub.status.busy": "2023-04-05T12:18:37.632764Z",
     "iopub.status.idle": "2023-04-05T12:18:37.720767Z",
     "shell.execute_reply": "2023-04-05T12:18:37.719289Z"
    },
    "papermill": {
     "duration": 0.09889,
     "end_time": "2023-04-05T12:18:37.723294",
     "exception": false,
     "start_time": "2023-04-05T12:18:37.624404",
     "status": "completed"
    },
    "tags": []
   },
   "outputs": [
    {
     "data": {
      "text/html": [
       "<div>\n",
       "<style scoped>\n",
       "    .dataframe tbody tr th:only-of-type {\n",
       "        vertical-align: middle;\n",
       "    }\n",
       "\n",
       "    .dataframe tbody tr th {\n",
       "        vertical-align: top;\n",
       "    }\n",
       "\n",
       "    .dataframe thead th {\n",
       "        text-align: right;\n",
       "    }\n",
       "</style>\n",
       "<table border=\"1\" class=\"dataframe\">\n",
       "  <thead>\n",
       "    <tr style=\"text-align: right;\">\n",
       "      <th></th>\n",
       "      <th>text</th>\n",
       "      <th>fraudulent</th>\n",
       "    </tr>\n",
       "  </thead>\n",
       "  <tbody>\n",
       "    <tr>\n",
       "      <th>0</th>\n",
       "      <td>Lawn and Maintenance Contractors  US, MD, Coll...</td>\n",
       "      <td>1</td>\n",
       "    </tr>\n",
       "    <tr>\n",
       "      <th>1</th>\n",
       "      <td>Administrative Assistant US, NV, LAS VEGAS   A...</td>\n",
       "      <td>1</td>\n",
       "    </tr>\n",
       "    <tr>\n",
       "      <th>2</th>\n",
       "      <td>SAP Support Advisor US, TX, Houston Aker Solut...</td>\n",
       "      <td>1</td>\n",
       "    </tr>\n",
       "    <tr>\n",
       "      <th>3</th>\n",
       "      <td>Project Subcontracting Manager US, TX, Houston...</td>\n",
       "      <td>1</td>\n",
       "    </tr>\n",
       "    <tr>\n",
       "      <th>4</th>\n",
       "      <td>Clerical Personnel US, OH, Cincinnati Bradley ...</td>\n",
       "      <td>1</td>\n",
       "    </tr>\n",
       "    <tr>\n",
       "      <th>...</th>\n",
       "      <td>...</td>\n",
       "      <td>...</td>\n",
       "    </tr>\n",
       "    <tr>\n",
       "      <th>1057</th>\n",
       "      <td>Health + Environmental Professional US, CA, Ba...</td>\n",
       "      <td>1</td>\n",
       "    </tr>\n",
       "    <tr>\n",
       "      <th>1058</th>\n",
       "      <td>Project QA Engineer US, TX, Houston Corporate ...</td>\n",
       "      <td>1</td>\n",
       "    </tr>\n",
       "    <tr>\n",
       "      <th>1059</th>\n",
       "      <td>Class A - CDL Driver - Doubles Endorsed US, OH...</td>\n",
       "      <td>1</td>\n",
       "    </tr>\n",
       "    <tr>\n",
       "      <th>1060</th>\n",
       "      <td>Project Controls Tech US, CO, Denver Staffing ...</td>\n",
       "      <td>1</td>\n",
       "    </tr>\n",
       "    <tr>\n",
       "      <th>1061</th>\n",
       "      <td>Call Center Representative I US, TX, DALLAS As...</td>\n",
       "      <td>1</td>\n",
       "    </tr>\n",
       "  </tbody>\n",
       "</table>\n",
       "<p>1062 rows × 2 columns</p>\n",
       "</div>"
      ],
      "text/plain": [
       "                                                   text  fraudulent\n",
       "0     Lawn and Maintenance Contractors  US, MD, Coll...           1\n",
       "1     Administrative Assistant US, NV, LAS VEGAS   A...           1\n",
       "2     SAP Support Advisor US, TX, Houston Aker Solut...           1\n",
       "3     Project Subcontracting Manager US, TX, Houston...           1\n",
       "4     Clerical Personnel US, OH, Cincinnati Bradley ...           1\n",
       "...                                                 ...         ...\n",
       "1057  Health + Environmental Professional US, CA, Ba...           1\n",
       "1058  Project QA Engineer US, TX, Houston Corporate ...           1\n",
       "1059  Class A - CDL Driver - Doubles Endorsed US, OH...           1\n",
       "1060  Project Controls Tech US, CO, Denver Staffing ...           1\n",
       "1061  Call Center Representative I US, TX, DALLAS As...           1\n",
       "\n",
       "[1062 rows x 2 columns]"
      ]
     },
     "execution_count": 9,
     "metadata": {},
     "output_type": "execute_result"
    }
   ],
   "source": [
    "#import the already augmented data\n",
    "aug_data = pd.read_csv(\"/kaggle/input/augmented-data/X_train_fake_aug_df.csv\")\n",
    "aug_data.drop([\"Unnamed: 0\"], axis='columns', inplace = True)\n",
    "aug_data['fraudulent'] = 1\n",
    "aug_no = len(aug_data)\n",
    "aug_data"
   ]
  },
  {
   "cell_type": "markdown",
   "id": "fb2f2dd4",
   "metadata": {
    "papermill": {
     "duration": 0.007723,
     "end_time": "2023-04-05T12:18:37.738406",
     "exception": false,
     "start_time": "2023-04-05T12:18:37.730683",
     "status": "completed"
    },
    "tags": []
   },
   "source": [
    "## Cleaning the text"
   ]
  },
  {
   "cell_type": "code",
   "execution_count": 10,
   "id": "71b61bc3",
   "metadata": {
    "execution": {
     "iopub.execute_input": "2023-04-05T12:18:37.754502Z",
     "iopub.status.busy": "2023-04-05T12:18:37.754132Z",
     "iopub.status.idle": "2023-04-05T12:18:37.761491Z",
     "shell.execute_reply": "2023-04-05T12:18:37.760674Z"
    },
    "papermill": {
     "duration": 0.018003,
     "end_time": "2023-04-05T12:18:37.763717",
     "exception": false,
     "start_time": "2023-04-05T12:18:37.745714",
     "status": "completed"
    },
    "tags": []
   },
   "outputs": [],
   "source": [
    "#CLEANING\n",
    "def clean_text(row):\n",
    "    t = row['text']\n",
    "    #Lower case\n",
    "    t = t.lower()\n",
    "    #Removing punctuation, links, numbers, _/-/@/% etc. \n",
    "    t = re.sub(r\"(@\\[A-Za-z0-9]+)|([^0-9A-Za-z \\t])|[0-9]|(\\w+:\\/\\/\\S+)|^rt|http.+?\", \"\", t)\n",
    "    #Removing the extra spaces created \n",
    "    t = re.sub(' +', ' ', t)\n",
    "    #English stopwords are removed\n",
    "    fulltext = t.split()\n",
    "    stop = stopwords.words('english')\n",
    "    t = \" \".join([w for w in fulltext if w not in (stop)])\n",
    "    #Stemming\n",
    "    fulltext = t.split()\n",
    "    fulltext_stem = []\n",
    "    stemmer = PorterStemmer()\n",
    "    for w in fulltext:\n",
    "        fulltext_stem.append(stemmer.stem(w))\n",
    "\n",
    "    return ' '.join(s for s in fulltext_stem)"
   ]
  },
  {
   "cell_type": "code",
   "execution_count": 11,
   "id": "53fb1cc4",
   "metadata": {
    "execution": {
     "iopub.execute_input": "2023-04-05T12:18:37.780885Z",
     "iopub.status.busy": "2023-04-05T12:18:37.780271Z",
     "iopub.status.idle": "2023-04-05T12:18:45.025057Z",
     "shell.execute_reply": "2023-04-05T12:18:45.023409Z"
    },
    "papermill": {
     "duration": 7.256312,
     "end_time": "2023-04-05T12:18:45.027787",
     "exception": false,
     "start_time": "2023-04-05T12:18:37.771475",
     "status": "completed"
    },
    "tags": []
   },
   "outputs": [],
   "source": [
    "# Cleaning aug data\n",
    "aug_data[\"clean_text\"] = aug_data.apply(clean_text, axis = 1)\n",
    "aug_data.drop([\"text\"], axis='columns', inplace = True)"
   ]
  },
  {
   "cell_type": "code",
   "execution_count": 12,
   "id": "a22974f8",
   "metadata": {
    "execution": {
     "iopub.execute_input": "2023-04-05T12:18:45.043867Z",
     "iopub.status.busy": "2023-04-05T12:18:45.043533Z",
     "iopub.status.idle": "2023-04-05T12:19:44.562985Z",
     "shell.execute_reply": "2023-04-05T12:19:44.561040Z"
    },
    "papermill": {
     "duration": 59.53064,
     "end_time": "2023-04-05T12:19:44.565882",
     "exception": false,
     "start_time": "2023-04-05T12:18:45.035242",
     "status": "completed"
    },
    "tags": []
   },
   "outputs": [],
   "source": [
    "# Cleaning train data\n",
    "train_df[\"clean_text\"] = train_df.apply(clean_text, axis = 1)\n",
    "train_df.drop([\"text\"], axis='columns', inplace = True)"
   ]
  },
  {
   "cell_type": "code",
   "execution_count": 13,
   "id": "297c39ec",
   "metadata": {
    "execution": {
     "iopub.execute_input": "2023-04-05T12:19:44.582999Z",
     "iopub.status.busy": "2023-04-05T12:19:44.582664Z",
     "iopub.status.idle": "2023-04-05T12:20:09.614214Z",
     "shell.execute_reply": "2023-04-05T12:20:09.612725Z"
    },
    "papermill": {
     "duration": 25.043076,
     "end_time": "2023-04-05T12:20:09.616786",
     "exception": false,
     "start_time": "2023-04-05T12:19:44.573710",
     "status": "completed"
    },
    "tags": []
   },
   "outputs": [],
   "source": [
    "# Cleaning test data\n",
    "test_df[\"clean_text\"] = test_df.apply(clean_text, axis = 1)\n",
    "test_df.drop([\"text\"], axis='columns', inplace = True)"
   ]
  },
  {
   "cell_type": "code",
   "execution_count": 14,
   "id": "f9393bfb",
   "metadata": {
    "execution": {
     "iopub.execute_input": "2023-04-05T12:20:09.634075Z",
     "iopub.status.busy": "2023-04-05T12:20:09.633740Z",
     "iopub.status.idle": "2023-04-05T12:20:09.641405Z",
     "shell.execute_reply": "2023-04-05T12:20:09.640605Z"
    },
    "papermill": {
     "duration": 0.018752,
     "end_time": "2023-04-05T12:20:09.643387",
     "exception": false,
     "start_time": "2023-04-05T12:20:09.624635",
     "status": "completed"
    },
    "tags": []
   },
   "outputs": [],
   "source": [
    "aug_data['fraudulent'] = 1\n",
    "final_df = aug_data.append(train_df, ignore_index=True)\n",
    "final_df = final_df.append(test_df, ignore_index=True)"
   ]
  },
  {
   "cell_type": "code",
   "execution_count": 15,
   "id": "344fa262",
   "metadata": {
    "execution": {
     "iopub.execute_input": "2023-04-05T12:20:09.661866Z",
     "iopub.status.busy": "2023-04-05T12:20:09.661287Z",
     "iopub.status.idle": "2023-04-05T12:20:09.665898Z",
     "shell.execute_reply": "2023-04-05T12:20:09.664715Z"
    },
    "papermill": {
     "duration": 0.016653,
     "end_time": "2023-04-05T12:20:09.668503",
     "exception": false,
     "start_time": "2023-04-05T12:20:09.651850",
     "status": "completed"
    },
    "tags": []
   },
   "outputs": [],
   "source": [
    "del aug_data\n",
    "del train_df\n",
    "del test_df"
   ]
  },
  {
   "cell_type": "markdown",
   "id": "516e275c",
   "metadata": {
    "papermill": {
     "duration": 0.007417,
     "end_time": "2023-04-05T12:20:09.684013",
     "exception": false,
     "start_time": "2023-04-05T12:20:09.676596",
     "status": "completed"
    },
    "tags": []
   },
   "source": [
    "## Getting the data ready for the models"
   ]
  },
  {
   "cell_type": "code",
   "execution_count": 16,
   "id": "433b8d77",
   "metadata": {
    "execution": {
     "iopub.execute_input": "2023-04-05T12:20:09.702823Z",
     "iopub.status.busy": "2023-04-05T12:20:09.702221Z",
     "iopub.status.idle": "2023-04-05T12:20:33.775015Z",
     "shell.execute_reply": "2023-04-05T12:20:33.773573Z"
    },
    "papermill": {
     "duration": 24.085943,
     "end_time": "2023-04-05T12:20:33.777860",
     "exception": false,
     "start_time": "2023-04-05T12:20:09.691917",
     "status": "completed"
    },
    "tags": []
   },
   "outputs": [],
   "source": [
    "#Converting the textual data into numerical form to feed to the predicting models, using the Bag of Words approach\n",
    "vec = CountVectorizer(ngram_range = (1,1), binary = False)\n",
    "X_final = vec.fit_transform(final_df['clean_text']).toarray() #X = vec.fit_transform(data_US_text['clean_text']).toarray()\n",
    "#The BoW approach gives each word a score based on its occurence in the text, but does not take into consideration how\n",
    "#frequent this word is in all the texts, thus I use TF-IDF that considers the all the texts to assign a weightage to a word.\n",
    "tfidf = TfidfTransformer()\n",
    "X_final = tfidf.fit_transform(X_final).toarray()"
   ]
  },
  {
   "cell_type": "code",
   "execution_count": 17,
   "id": "e5da616d",
   "metadata": {
    "execution": {
     "iopub.execute_input": "2023-04-05T12:20:33.795627Z",
     "iopub.status.busy": "2023-04-05T12:20:33.795192Z",
     "iopub.status.idle": "2023-04-05T12:20:35.262350Z",
     "shell.execute_reply": "2023-04-05T12:20:35.259978Z"
    },
    "papermill": {
     "duration": 1.484255,
     "end_time": "2023-04-05T12:20:35.270097",
     "exception": false,
     "start_time": "2023-04-05T12:20:33.785842",
     "status": "completed"
    },
    "tags": []
   },
   "outputs": [],
   "source": [
    "# seperate the augmented data\n",
    "aug_X = X_final[:aug_no,:]\n",
    "aug_y = final_df.fraudulent[:aug_no]\n",
    "# train and test split\n",
    "X_train = X_final[aug_no:(aug_no + train_no),:]\n",
    "y_train = final_df.fraudulent[aug_no:(aug_no + train_no)]\n",
    "\n",
    "X_test = X_final[(aug_no + train_no):, :]\n",
    "y_test = final_df.fraudulent[(aug_no + train_no):]\n",
    "\n",
    "del X_final\n",
    "del final_df\n",
    "\n",
    "# add the augmented data to the train \n",
    "X_train_ = np.append(X_train, aug_X, axis = 0)\n",
    "del X_train\n",
    "del aug_X\n",
    "y_train_ = y_train.append(aug_y, ignore_index=True)\n",
    "del aug_y\n",
    "del y_train"
   ]
  },
  {
   "cell_type": "markdown",
   "id": "486569da",
   "metadata": {
    "papermill": {
     "duration": 0.010213,
     "end_time": "2023-04-05T12:20:35.295934",
     "exception": false,
     "start_time": "2023-04-05T12:20:35.285721",
     "status": "completed"
    },
    "tags": []
   },
   "source": [
    "## Predictions"
   ]
  },
  {
   "cell_type": "code",
   "execution_count": 18,
   "id": "040ef7bb",
   "metadata": {
    "execution": {
     "iopub.execute_input": "2023-04-05T12:20:35.317436Z",
     "iopub.status.busy": "2023-04-05T12:20:35.316422Z",
     "iopub.status.idle": "2023-04-05T12:22:37.482543Z",
     "shell.execute_reply": "2023-04-05T12:22:37.480060Z"
    },
    "papermill": {
     "duration": 122.190224,
     "end_time": "2023-04-05T12:22:37.494733",
     "exception": false,
     "start_time": "2023-04-05T12:20:35.304509",
     "status": "completed"
    },
    "tags": []
   },
   "outputs": [
    {
     "name": "stdout",
     "output_type": "stream",
     "text": [
      "Model used: LogisticRegression()\n",
      "              precision    recall  f1-score   support\n",
      "\n",
      "           0       0.98      1.00      0.99      2998\n",
      "           1       0.95      0.68      0.80       199\n",
      "\n",
      "    accuracy                           0.98      3197\n",
      "   macro avg       0.97      0.84      0.89      3197\n",
      "weighted avg       0.98      0.98      0.98      3197\n",
      "\n",
      "Model used: RandomForestClassifier()\n",
      "              precision    recall  f1-score   support\n",
      "\n",
      "           0       0.98      1.00      0.99      2998\n",
      "           1       1.00      0.65      0.79       199\n",
      "\n",
      "    accuracy                           0.98      3197\n",
      "   macro avg       0.99      0.82      0.89      3197\n",
      "weighted avg       0.98      0.98      0.98      3197\n",
      "\n"
     ]
    }
   ],
   "source": [
    "def predictions(X_train, X_test, y_train, y_test):\n",
    "    \n",
    "    models = [LogisticRegression(), RandomForestClassifier()]\n",
    "    for classifier in models:\n",
    "        print('Model used: ' + str(classifier))\n",
    "        classifier.fit(X_train, y_train)\n",
    "        y_pred = classifier.predict(X_test)\n",
    "        print(classification_report(y_test, y_pred))\n",
    "        \n",
    "predictions(X_train_, X_test, y_train_, y_test)"
   ]
  },
  {
   "cell_type": "code",
   "execution_count": 19,
   "id": "5c224fa1",
   "metadata": {
    "execution": {
     "iopub.execute_input": "2023-04-05T12:22:37.513557Z",
     "iopub.status.busy": "2023-04-05T12:22:37.513122Z",
     "iopub.status.idle": "2023-04-05T12:30:17.739958Z",
     "shell.execute_reply": "2023-04-05T12:30:17.737745Z"
    },
    "papermill": {
     "duration": 460.240212,
     "end_time": "2023-04-05T12:30:17.743066",
     "exception": false,
     "start_time": "2023-04-05T12:22:37.502854",
     "status": "completed"
    },
    "tags": []
   },
   "outputs": [
    {
     "name": "stdout",
     "output_type": "stream",
     "text": [
      "Model: \"sequential\"\n",
      "_________________________________________________________________\n",
      " Layer (type)                Output Shape              Param #   \n",
      "=================================================================\n",
      " dense (Dense)               (None, 50)                4702300   \n",
      "                                                                 \n",
      " dense_1 (Dense)             (None, 30)                1530      \n",
      "                                                                 \n",
      " dense_2 (Dense)             (None, 15)                465       \n",
      "                                                                 \n",
      " dense_3 (Dense)             (None, 1)                 16        \n",
      "                                                                 \n",
      "=================================================================\n",
      "Total params: 4,704,311\n",
      "Trainable params: 4,704,311\n",
      "Non-trainable params: 0\n",
      "_________________________________________________________________\n",
      "Epoch 1/8\n",
      "2272/2272 [==============================] - 59s 25ms/step - loss: 0.1251 - accuracy: 0.9616 - val_loss: 0.1658 - val_accuracy: 0.9308\n",
      "Epoch 2/8\n",
      "2272/2272 [==============================] - 59s 26ms/step - loss: 0.0112 - accuracy: 0.9962 - val_loss: 0.0557 - val_accuracy: 0.9771\n",
      "Epoch 3/8\n",
      "2272/2272 [==============================] - 59s 26ms/step - loss: 0.0027 - accuracy: 0.9991 - val_loss: 0.1041 - val_accuracy: 0.9654\n",
      "Epoch 4/8\n",
      "2272/2272 [==============================] - 55s 24ms/step - loss: 0.0012 - accuracy: 0.9994 - val_loss: 0.0630 - val_accuracy: 0.9801\n",
      "Epoch 5/8\n",
      "2272/2272 [==============================] - 56s 25ms/step - loss: 8.1772e-04 - accuracy: 0.9996 - val_loss: 0.0778 - val_accuracy: 0.9754\n",
      "Epoch 6/8\n",
      "2272/2272 [==============================] - 57s 25ms/step - loss: 0.0013 - accuracy: 0.9997 - val_loss: 0.1529 - val_accuracy: 0.9654\n",
      "Epoch 7/8\n",
      "2272/2272 [==============================] - 55s 24ms/step - loss: 4.1632e-04 - accuracy: 0.9997 - val_loss: 0.2104 - val_accuracy: 0.9560\n",
      "Epoch 8/8\n",
      "2272/2272 [==============================] - 56s 25ms/step - loss: 4.4833e-04 - accuracy: 0.9999 - val_loss: 0.0547 - val_accuracy: 0.9871\n",
      "100/100 [==============================] - 1s 10ms/step\n",
      "              precision    recall  f1-score   support\n",
      "\n",
      "           0       0.99      0.99      0.99      2998\n",
      "           1       0.82      0.86      0.84       199\n",
      "\n",
      "    accuracy                           0.98      3197\n",
      "   macro avg       0.91      0.93      0.92      3197\n",
      "weighted avg       0.98      0.98      0.98      3197\n",
      "\n"
     ]
    }
   ],
   "source": [
    "model = Sequential()\n",
    "model.add(Dense(50, input_shape=(X_train_.shape[1],), activation='relu')) \n",
    "model.add(Dense(30, activation='relu'))\n",
    "model.add(Dense(15, activation='relu'))\n",
    "model.add(Dense(1, activation='sigmoid'))\n",
    "model.summary() \n",
    "\n",
    "model.compile(optimizer='Adam', loss='binary_crossentropy',  metrics=['accuracy'])\n",
    "\n",
    "history = model.fit(X_train_, y_train_,\n",
    "                    epochs=8, \n",
    "                    batch_size=3,\n",
    "                    validation_split=0.2,\n",
    "                    shuffle=True,\n",
    "                    verbose=1)\n",
    "\n",
    "y_pred = np.round(model.predict(X_test),0)\n",
    "print(classification_report(y_test, y_pred))"
   ]
  }
 ],
 "metadata": {
  "kernelspec": {
   "display_name": "Python 3",
   "language": "python",
   "name": "python3"
  },
  "language_info": {
   "codemirror_mode": {
    "name": "ipython",
    "version": 3
   },
   "file_extension": ".py",
   "mimetype": "text/x-python",
   "name": "python",
   "nbconvert_exporter": "python",
   "pygments_lexer": "ipython3",
   "version": "3.7.12"
  },
  "papermill": {
   "default_parameters": {},
   "duration": 759.352555,
   "end_time": "2023-04-05T12:30:21.228947",
   "environment_variables": {},
   "exception": null,
   "input_path": "__notebook__.ipynb",
   "output_path": "__notebook__.ipynb",
   "parameters": {},
   "start_time": "2023-04-05T12:17:41.876392",
   "version": "2.4.0"
  },
  "widgets": {
   "application/vnd.jupyter.widget-state+json": {
    "state": {
     "01b7ddbf8fd24e10a76e67a67f26a895": {
      "model_module": "@jupyter-widgets/controls",
      "model_module_version": "1.5.0",
      "model_name": "HBoxModel",
      "state": {
       "_dom_classes": [],
       "_model_module": "@jupyter-widgets/controls",
       "_model_module_version": "1.5.0",
       "_model_name": "HBoxModel",
       "_view_count": null,
       "_view_module": "@jupyter-widgets/controls",
       "_view_module_version": "1.5.0",
       "_view_name": "HBoxView",
       "box_style": "",
       "children": [
        "IPY_MODEL_2f1ec0f3494240e7b4d48c313395af3b",
        "IPY_MODEL_e04cc59bc30d4189852331de4e89f333",
        "IPY_MODEL_5768dcfabc7742038958c6222b1bc46c"
       ],
       "layout": "IPY_MODEL_a2f98fcee113498093e31f36879753be"
      }
     },
     "0d7fc7d8bdc341ff933663536ca0a692": {
      "model_module": "@jupyter-widgets/base",
      "model_module_version": "1.2.0",
      "model_name": "LayoutModel",
      "state": {
       "_model_module": "@jupyter-widgets/base",
       "_model_module_version": "1.2.0",
       "_model_name": "LayoutModel",
       "_view_count": null,
       "_view_module": "@jupyter-widgets/base",
       "_view_module_version": "1.2.0",
       "_view_name": "LayoutView",
       "align_content": null,
       "align_items": null,
       "align_self": null,
       "border": null,
       "bottom": null,
       "display": null,
       "flex": null,
       "flex_flow": null,
       "grid_area": null,
       "grid_auto_columns": null,
       "grid_auto_flow": null,
       "grid_auto_rows": null,
       "grid_column": null,
       "grid_gap": null,
       "grid_row": null,
       "grid_template_areas": null,
       "grid_template_columns": null,
       "grid_template_rows": null,
       "height": null,
       "justify_content": null,
       "justify_items": null,
       "left": null,
       "margin": null,
       "max_height": null,
       "max_width": null,
       "min_height": null,
       "min_width": null,
       "object_fit": null,
       "object_position": null,
       "order": null,
       "overflow": null,
       "overflow_x": null,
       "overflow_y": null,
       "padding": null,
       "right": null,
       "top": null,
       "visibility": null,
       "width": null
      }
     },
     "0dd0f9e7fbef4908a2d8a6ae5dd0c0cc": {
      "model_module": "@jupyter-widgets/controls",
      "model_module_version": "1.5.0",
      "model_name": "HTMLModel",
      "state": {
       "_dom_classes": [],
       "_model_module": "@jupyter-widgets/controls",
       "_model_module_version": "1.5.0",
       "_model_name": "HTMLModel",
       "_view_count": null,
       "_view_module": "@jupyter-widgets/controls",
       "_view_module_version": "1.5.0",
       "_view_name": "HTMLView",
       "description": "",
       "description_tooltip": null,
       "layout": "IPY_MODEL_bf57bde44b4f40cc9af2a3adac8a973c",
       "placeholder": "​",
       "style": "IPY_MODEL_ee674f758c714ec0b35c5e9f77ffd734",
       "value": "Downloading (…)/main/tokenizer.json: 100%"
      }
     },
     "13b710210f284c15a6c9aa123e4bb3ae": {
      "model_module": "@jupyter-widgets/base",
      "model_module_version": "1.2.0",
      "model_name": "LayoutModel",
      "state": {
       "_model_module": "@jupyter-widgets/base",
       "_model_module_version": "1.2.0",
       "_model_name": "LayoutModel",
       "_view_count": null,
       "_view_module": "@jupyter-widgets/base",
       "_view_module_version": "1.2.0",
       "_view_name": "LayoutView",
       "align_content": null,
       "align_items": null,
       "align_self": null,
       "border": null,
       "bottom": null,
       "display": null,
       "flex": null,
       "flex_flow": null,
       "grid_area": null,
       "grid_auto_columns": null,
       "grid_auto_flow": null,
       "grid_auto_rows": null,
       "grid_column": null,
       "grid_gap": null,
       "grid_row": null,
       "grid_template_areas": null,
       "grid_template_columns": null,
       "grid_template_rows": null,
       "height": null,
       "justify_content": null,
       "justify_items": null,
       "left": null,
       "margin": null,
       "max_height": null,
       "max_width": null,
       "min_height": null,
       "min_width": null,
       "object_fit": null,
       "object_position": null,
       "order": null,
       "overflow": null,
       "overflow_x": null,
       "overflow_y": null,
       "padding": null,
       "right": null,
       "top": null,
       "visibility": null,
       "width": null
      }
     },
     "17bd11fe2ad0435e9a781a9a383e34aa": {
      "model_module": "@jupyter-widgets/controls",
      "model_module_version": "1.5.0",
      "model_name": "HTMLModel",
      "state": {
       "_dom_classes": [],
       "_model_module": "@jupyter-widgets/controls",
       "_model_module_version": "1.5.0",
       "_model_name": "HTMLModel",
       "_view_count": null,
       "_view_module": "@jupyter-widgets/controls",
       "_view_module_version": "1.5.0",
       "_view_name": "HTMLView",
       "description": "",
       "description_tooltip": null,
       "layout": "IPY_MODEL_d91fa634558449dc862ddc28b35e8249",
       "placeholder": "​",
       "style": "IPY_MODEL_82b4df2a90294a648e64ca7146db0d8c",
       "value": " 1.36M/1.36M [00:00&lt;00:00, 3.02MB/s]"
      }
     },
     "1abe8ccb5d044af1b2ceef1f7b9e193d": {
      "model_module": "@jupyter-widgets/controls",
      "model_module_version": "1.5.0",
      "model_name": "DescriptionStyleModel",
      "state": {
       "_model_module": "@jupyter-widgets/controls",
       "_model_module_version": "1.5.0",
       "_model_name": "DescriptionStyleModel",
       "_view_count": null,
       "_view_module": "@jupyter-widgets/base",
       "_view_module_version": "1.2.0",
       "_view_name": "StyleView",
       "description_width": ""
      }
     },
     "2286337f20a64077ae7deac31caa87f6": {
      "model_module": "@jupyter-widgets/controls",
      "model_module_version": "1.5.0",
      "model_name": "DescriptionStyleModel",
      "state": {
       "_model_module": "@jupyter-widgets/controls",
       "_model_module_version": "1.5.0",
       "_model_name": "DescriptionStyleModel",
       "_view_count": null,
       "_view_module": "@jupyter-widgets/base",
       "_view_module_version": "1.2.0",
       "_view_name": "StyleView",
       "description_width": ""
      }
     },
     "2f1ec0f3494240e7b4d48c313395af3b": {
      "model_module": "@jupyter-widgets/controls",
      "model_module_version": "1.5.0",
      "model_name": "HTMLModel",
      "state": {
       "_dom_classes": [],
       "_model_module": "@jupyter-widgets/controls",
       "_model_module_version": "1.5.0",
       "_model_name": "HTMLModel",
       "_view_count": null,
       "_view_module": "@jupyter-widgets/controls",
       "_view_module_version": "1.5.0",
       "_view_name": "HTMLView",
       "description": "",
       "description_tooltip": null,
       "layout": "IPY_MODEL_716888c5fe6642c5aedbabbbefa788cc",
       "placeholder": "​",
       "style": "IPY_MODEL_7d0e6e3bfe2e4b6892157d75cf9da3ed",
       "value": "Downloading pytorch_model.bin: 100%"
      }
     },
     "37013e3292c4467cb625c5a2cb4a0efa": {
      "model_module": "@jupyter-widgets/base",
      "model_module_version": "1.2.0",
      "model_name": "LayoutModel",
      "state": {
       "_model_module": "@jupyter-widgets/base",
       "_model_module_version": "1.2.0",
       "_model_name": "LayoutModel",
       "_view_count": null,
       "_view_module": "@jupyter-widgets/base",
       "_view_module_version": "1.2.0",
       "_view_name": "LayoutView",
       "align_content": null,
       "align_items": null,
       "align_self": null,
       "border": null,
       "bottom": null,
       "display": null,
       "flex": null,
       "flex_flow": null,
       "grid_area": null,
       "grid_auto_columns": null,
       "grid_auto_flow": null,
       "grid_auto_rows": null,
       "grid_column": null,
       "grid_gap": null,
       "grid_row": null,
       "grid_template_areas": null,
       "grid_template_columns": null,
       "grid_template_rows": null,
       "height": null,
       "justify_content": null,
       "justify_items": null,
       "left": null,
       "margin": null,
       "max_height": null,
       "max_width": null,
       "min_height": null,
       "min_width": null,
       "object_fit": null,
       "object_position": null,
       "order": null,
       "overflow": null,
       "overflow_x": null,
       "overflow_y": null,
       "padding": null,
       "right": null,
       "top": null,
       "visibility": null,
       "width": null
      }
     },
     "3cf781ec66c54ff5a2e5424b06166a1b": {
      "model_module": "@jupyter-widgets/controls",
      "model_module_version": "1.5.0",
      "model_name": "ProgressStyleModel",
      "state": {
       "_model_module": "@jupyter-widgets/controls",
       "_model_module_version": "1.5.0",
       "_model_name": "ProgressStyleModel",
       "_view_count": null,
       "_view_module": "@jupyter-widgets/base",
       "_view_module_version": "1.2.0",
       "_view_name": "StyleView",
       "bar_color": null,
       "description_width": ""
      }
     },
     "4450b1eae8e840a7b2d2473120e25b32": {
      "model_module": "@jupyter-widgets/controls",
      "model_module_version": "1.5.0",
      "model_name": "HTMLModel",
      "state": {
       "_dom_classes": [],
       "_model_module": "@jupyter-widgets/controls",
       "_model_module_version": "1.5.0",
       "_model_name": "HTMLModel",
       "_view_count": null,
       "_view_module": "@jupyter-widgets/controls",
       "_view_module_version": "1.5.0",
       "_view_name": "HTMLView",
       "description": "",
       "description_tooltip": null,
       "layout": "IPY_MODEL_a6c8a061cec54d6080be0307192ff045",
       "placeholder": "​",
       "style": "IPY_MODEL_e3b40535a0c2441bb5e29949ab1a708b",
       "value": " 481/481 [00:00&lt;00:00, 31.0kB/s]"
      }
     },
     "47a78392538b43baa41133cdb9f61f52": {
      "model_module": "@jupyter-widgets/controls",
      "model_module_version": "1.5.0",
      "model_name": "HTMLModel",
      "state": {
       "_dom_classes": [],
       "_model_module": "@jupyter-widgets/controls",
       "_model_module_version": "1.5.0",
       "_model_name": "HTMLModel",
       "_view_count": null,
       "_view_module": "@jupyter-widgets/controls",
       "_view_module_version": "1.5.0",
       "_view_name": "HTMLView",
       "description": "",
       "description_tooltip": null,
       "layout": "IPY_MODEL_88838a083da641bfb15b4b95f9b02a0d",
       "placeholder": "​",
       "style": "IPY_MODEL_f1908367c8484092a6412ff8f2e5ba91",
       "value": "Downloading (…)olve/main/merges.txt: 100%"
      }
     },
     "4de20fc8e0dc4ec4a28a348f1eb9f0e0": {
      "model_module": "@jupyter-widgets/controls",
      "model_module_version": "1.5.0",
      "model_name": "ProgressStyleModel",
      "state": {
       "_model_module": "@jupyter-widgets/controls",
       "_model_module_version": "1.5.0",
       "_model_name": "ProgressStyleModel",
       "_view_count": null,
       "_view_module": "@jupyter-widgets/base",
       "_view_module_version": "1.2.0",
       "_view_name": "StyleView",
       "bar_color": null,
       "description_width": ""
      }
     },
     "5647e044f16d4599954ee59293bbef29": {
      "model_module": "@jupyter-widgets/controls",
      "model_module_version": "1.5.0",
      "model_name": "HBoxModel",
      "state": {
       "_dom_classes": [],
       "_model_module": "@jupyter-widgets/controls",
       "_model_module_version": "1.5.0",
       "_model_name": "HBoxModel",
       "_view_count": null,
       "_view_module": "@jupyter-widgets/controls",
       "_view_module_version": "1.5.0",
       "_view_name": "HBoxView",
       "box_style": "",
       "children": [
        "IPY_MODEL_7683ee1c676848ed8e2c7b8bd825180d",
        "IPY_MODEL_5a67668aa78245929ee1e9933865d6a1",
        "IPY_MODEL_eb60f8d652b345039d405e1c6df37b68"
       ],
       "layout": "IPY_MODEL_0d7fc7d8bdc341ff933663536ca0a692"
      }
     },
     "5768dcfabc7742038958c6222b1bc46c": {
      "model_module": "@jupyter-widgets/controls",
      "model_module_version": "1.5.0",
      "model_name": "HTMLModel",
      "state": {
       "_dom_classes": [],
       "_model_module": "@jupyter-widgets/controls",
       "_model_module_version": "1.5.0",
       "_model_name": "HTMLModel",
       "_view_count": null,
       "_view_module": "@jupyter-widgets/controls",
       "_view_module_version": "1.5.0",
       "_view_name": "HTMLView",
       "description": "",
       "description_tooltip": null,
       "layout": "IPY_MODEL_13b710210f284c15a6c9aa123e4bb3ae",
       "placeholder": "​",
       "style": "IPY_MODEL_d69a495d5f4b40479ed8b18dd403c8d0",
       "value": " 501M/501M [00:01&lt;00:00, 371MB/s]"
      }
     },
     "57ea3c19e081497bbe4694161f2a3819": {
      "model_module": "@jupyter-widgets/base",
      "model_module_version": "1.2.0",
      "model_name": "LayoutModel",
      "state": {
       "_model_module": "@jupyter-widgets/base",
       "_model_module_version": "1.2.0",
       "_model_name": "LayoutModel",
       "_view_count": null,
       "_view_module": "@jupyter-widgets/base",
       "_view_module_version": "1.2.0",
       "_view_name": "LayoutView",
       "align_content": null,
       "align_items": null,
       "align_self": null,
       "border": null,
       "bottom": null,
       "display": null,
       "flex": null,
       "flex_flow": null,
       "grid_area": null,
       "grid_auto_columns": null,
       "grid_auto_flow": null,
       "grid_auto_rows": null,
       "grid_column": null,
       "grid_gap": null,
       "grid_row": null,
       "grid_template_areas": null,
       "grid_template_columns": null,
       "grid_template_rows": null,
       "height": null,
       "justify_content": null,
       "justify_items": null,
       "left": null,
       "margin": null,
       "max_height": null,
       "max_width": null,
       "min_height": null,
       "min_width": null,
       "object_fit": null,
       "object_position": null,
       "order": null,
       "overflow": null,
       "overflow_x": null,
       "overflow_y": null,
       "padding": null,
       "right": null,
       "top": null,
       "visibility": null,
       "width": null
      }
     },
     "5a67668aa78245929ee1e9933865d6a1": {
      "model_module": "@jupyter-widgets/controls",
      "model_module_version": "1.5.0",
      "model_name": "FloatProgressModel",
      "state": {
       "_dom_classes": [],
       "_model_module": "@jupyter-widgets/controls",
       "_model_module_version": "1.5.0",
       "_model_name": "FloatProgressModel",
       "_view_count": null,
       "_view_module": "@jupyter-widgets/controls",
       "_view_module_version": "1.5.0",
       "_view_name": "ProgressView",
       "bar_style": "success",
       "description": "",
       "description_tooltip": null,
       "layout": "IPY_MODEL_62dcb0edad4542b78172a0d846279a8f",
       "max": 898823.0,
       "min": 0.0,
       "orientation": "horizontal",
       "style": "IPY_MODEL_b32cfd6ee2064187ba1d51126040de5c",
       "value": 898823.0
      }
     },
     "62dcb0edad4542b78172a0d846279a8f": {
      "model_module": "@jupyter-widgets/base",
      "model_module_version": "1.2.0",
      "model_name": "LayoutModel",
      "state": {
       "_model_module": "@jupyter-widgets/base",
       "_model_module_version": "1.2.0",
       "_model_name": "LayoutModel",
       "_view_count": null,
       "_view_module": "@jupyter-widgets/base",
       "_view_module_version": "1.2.0",
       "_view_name": "LayoutView",
       "align_content": null,
       "align_items": null,
       "align_self": null,
       "border": null,
       "bottom": null,
       "display": null,
       "flex": null,
       "flex_flow": null,
       "grid_area": null,
       "grid_auto_columns": null,
       "grid_auto_flow": null,
       "grid_auto_rows": null,
       "grid_column": null,
       "grid_gap": null,
       "grid_row": null,
       "grid_template_areas": null,
       "grid_template_columns": null,
       "grid_template_rows": null,
       "height": null,
       "justify_content": null,
       "justify_items": null,
       "left": null,
       "margin": null,
       "max_height": null,
       "max_width": null,
       "min_height": null,
       "min_width": null,
       "object_fit": null,
       "object_position": null,
       "order": null,
       "overflow": null,
       "overflow_x": null,
       "overflow_y": null,
       "padding": null,
       "right": null,
       "top": null,
       "visibility": null,
       "width": null
      }
     },
     "6670b7d167404820ad49e239f9ab6930": {
      "model_module": "@jupyter-widgets/base",
      "model_module_version": "1.2.0",
      "model_name": "LayoutModel",
      "state": {
       "_model_module": "@jupyter-widgets/base",
       "_model_module_version": "1.2.0",
       "_model_name": "LayoutModel",
       "_view_count": null,
       "_view_module": "@jupyter-widgets/base",
       "_view_module_version": "1.2.0",
       "_view_name": "LayoutView",
       "align_content": null,
       "align_items": null,
       "align_self": null,
       "border": null,
       "bottom": null,
       "display": null,
       "flex": null,
       "flex_flow": null,
       "grid_area": null,
       "grid_auto_columns": null,
       "grid_auto_flow": null,
       "grid_auto_rows": null,
       "grid_column": null,
       "grid_gap": null,
       "grid_row": null,
       "grid_template_areas": null,
       "grid_template_columns": null,
       "grid_template_rows": null,
       "height": null,
       "justify_content": null,
       "justify_items": null,
       "left": null,
       "margin": null,
       "max_height": null,
       "max_width": null,
       "min_height": null,
       "min_width": null,
       "object_fit": null,
       "object_position": null,
       "order": null,
       "overflow": null,
       "overflow_x": null,
       "overflow_y": null,
       "padding": null,
       "right": null,
       "top": null,
       "visibility": null,
       "width": null
      }
     },
     "6aeebb48b0c5434bba12d60950d96eb5": {
      "model_module": "@jupyter-widgets/controls",
      "model_module_version": "1.5.0",
      "model_name": "ProgressStyleModel",
      "state": {
       "_model_module": "@jupyter-widgets/controls",
       "_model_module_version": "1.5.0",
       "_model_name": "ProgressStyleModel",
       "_view_count": null,
       "_view_module": "@jupyter-widgets/base",
       "_view_module_version": "1.2.0",
       "_view_name": "StyleView",
       "bar_color": null,
       "description_width": ""
      }
     },
     "716888c5fe6642c5aedbabbbefa788cc": {
      "model_module": "@jupyter-widgets/base",
      "model_module_version": "1.2.0",
      "model_name": "LayoutModel",
      "state": {
       "_model_module": "@jupyter-widgets/base",
       "_model_module_version": "1.2.0",
       "_model_name": "LayoutModel",
       "_view_count": null,
       "_view_module": "@jupyter-widgets/base",
       "_view_module_version": "1.2.0",
       "_view_name": "LayoutView",
       "align_content": null,
       "align_items": null,
       "align_self": null,
       "border": null,
       "bottom": null,
       "display": null,
       "flex": null,
       "flex_flow": null,
       "grid_area": null,
       "grid_auto_columns": null,
       "grid_auto_flow": null,
       "grid_auto_rows": null,
       "grid_column": null,
       "grid_gap": null,
       "grid_row": null,
       "grid_template_areas": null,
       "grid_template_columns": null,
       "grid_template_rows": null,
       "height": null,
       "justify_content": null,
       "justify_items": null,
       "left": null,
       "margin": null,
       "max_height": null,
       "max_width": null,
       "min_height": null,
       "min_width": null,
       "object_fit": null,
       "object_position": null,
       "order": null,
       "overflow": null,
       "overflow_x": null,
       "overflow_y": null,
       "padding": null,
       "right": null,
       "top": null,
       "visibility": null,
       "width": null
      }
     },
     "719d9ad6370f4dbb9448fa2fd9d50ab9": {
      "model_module": "@jupyter-widgets/base",
      "model_module_version": "1.2.0",
      "model_name": "LayoutModel",
      "state": {
       "_model_module": "@jupyter-widgets/base",
       "_model_module_version": "1.2.0",
       "_model_name": "LayoutModel",
       "_view_count": null,
       "_view_module": "@jupyter-widgets/base",
       "_view_module_version": "1.2.0",
       "_view_name": "LayoutView",
       "align_content": null,
       "align_items": null,
       "align_self": null,
       "border": null,
       "bottom": null,
       "display": null,
       "flex": null,
       "flex_flow": null,
       "grid_area": null,
       "grid_auto_columns": null,
       "grid_auto_flow": null,
       "grid_auto_rows": null,
       "grid_column": null,
       "grid_gap": null,
       "grid_row": null,
       "grid_template_areas": null,
       "grid_template_columns": null,
       "grid_template_rows": null,
       "height": null,
       "justify_content": null,
       "justify_items": null,
       "left": null,
       "margin": null,
       "max_height": null,
       "max_width": null,
       "min_height": null,
       "min_width": null,
       "object_fit": null,
       "object_position": null,
       "order": null,
       "overflow": null,
       "overflow_x": null,
       "overflow_y": null,
       "padding": null,
       "right": null,
       "top": null,
       "visibility": null,
       "width": null
      }
     },
     "7683ee1c676848ed8e2c7b8bd825180d": {
      "model_module": "@jupyter-widgets/controls",
      "model_module_version": "1.5.0",
      "model_name": "HTMLModel",
      "state": {
       "_dom_classes": [],
       "_model_module": "@jupyter-widgets/controls",
       "_model_module_version": "1.5.0",
       "_model_name": "HTMLModel",
       "_view_count": null,
       "_view_module": "@jupyter-widgets/controls",
       "_view_module_version": "1.5.0",
       "_view_name": "HTMLView",
       "description": "",
       "description_tooltip": null,
       "layout": "IPY_MODEL_fb20055d3ffc4c2a84be9f1256ea6d7a",
       "placeholder": "​",
       "style": "IPY_MODEL_cba6d333135543c891ea18fc339e732c",
       "value": "Downloading (…)olve/main/vocab.json: 100%"
      }
     },
     "78c213c7966d431f98fa6a5c851033e1": {
      "model_module": "@jupyter-widgets/controls",
      "model_module_version": "1.5.0",
      "model_name": "FloatProgressModel",
      "state": {
       "_dom_classes": [],
       "_model_module": "@jupyter-widgets/controls",
       "_model_module_version": "1.5.0",
       "_model_name": "FloatProgressModel",
       "_view_count": null,
       "_view_module": "@jupyter-widgets/controls",
       "_view_module_version": "1.5.0",
       "_view_name": "ProgressView",
       "bar_style": "success",
       "description": "",
       "description_tooltip": null,
       "layout": "IPY_MODEL_8c77c727448647789a83ab09e033d99d",
       "max": 481.0,
       "min": 0.0,
       "orientation": "horizontal",
       "style": "IPY_MODEL_e1c8ab3bb94641fdb1403df483c2a16c",
       "value": 481.0
      }
     },
     "7b5aa83bb0ba4b5f8c6edde46db2384a": {
      "model_module": "@jupyter-widgets/controls",
      "model_module_version": "1.5.0",
      "model_name": "HBoxModel",
      "state": {
       "_dom_classes": [],
       "_model_module": "@jupyter-widgets/controls",
       "_model_module_version": "1.5.0",
       "_model_name": "HBoxModel",
       "_view_count": null,
       "_view_module": "@jupyter-widgets/controls",
       "_view_module_version": "1.5.0",
       "_view_name": "HBoxView",
       "box_style": "",
       "children": [
        "IPY_MODEL_47a78392538b43baa41133cdb9f61f52",
        "IPY_MODEL_e2f416af982843d988e518fb953c0dba",
        "IPY_MODEL_f320002a863544b88a551eec5a88004e"
       ],
       "layout": "IPY_MODEL_bc55fba450c4447ca9397806b9f8fb28"
      }
     },
     "7d0e6e3bfe2e4b6892157d75cf9da3ed": {
      "model_module": "@jupyter-widgets/controls",
      "model_module_version": "1.5.0",
      "model_name": "DescriptionStyleModel",
      "state": {
       "_model_module": "@jupyter-widgets/controls",
       "_model_module_version": "1.5.0",
       "_model_name": "DescriptionStyleModel",
       "_view_count": null,
       "_view_module": "@jupyter-widgets/base",
       "_view_module_version": "1.2.0",
       "_view_name": "StyleView",
       "description_width": ""
      }
     },
     "81a7dc64554f4da2a60c1796b42a9cc0": {
      "model_module": "@jupyter-widgets/base",
      "model_module_version": "1.2.0",
      "model_name": "LayoutModel",
      "state": {
       "_model_module": "@jupyter-widgets/base",
       "_model_module_version": "1.2.0",
       "_model_name": "LayoutModel",
       "_view_count": null,
       "_view_module": "@jupyter-widgets/base",
       "_view_module_version": "1.2.0",
       "_view_name": "LayoutView",
       "align_content": null,
       "align_items": null,
       "align_self": null,
       "border": null,
       "bottom": null,
       "display": null,
       "flex": null,
       "flex_flow": null,
       "grid_area": null,
       "grid_auto_columns": null,
       "grid_auto_flow": null,
       "grid_auto_rows": null,
       "grid_column": null,
       "grid_gap": null,
       "grid_row": null,
       "grid_template_areas": null,
       "grid_template_columns": null,
       "grid_template_rows": null,
       "height": null,
       "justify_content": null,
       "justify_items": null,
       "left": null,
       "margin": null,
       "max_height": null,
       "max_width": null,
       "min_height": null,
       "min_width": null,
       "object_fit": null,
       "object_position": null,
       "order": null,
       "overflow": null,
       "overflow_x": null,
       "overflow_y": null,
       "padding": null,
       "right": null,
       "top": null,
       "visibility": null,
       "width": null
      }
     },
     "8287a36c2eda4a7d8b4acb456b82b285": {
      "model_module": "@jupyter-widgets/controls",
      "model_module_version": "1.5.0",
      "model_name": "DescriptionStyleModel",
      "state": {
       "_model_module": "@jupyter-widgets/controls",
       "_model_module_version": "1.5.0",
       "_model_name": "DescriptionStyleModel",
       "_view_count": null,
       "_view_module": "@jupyter-widgets/base",
       "_view_module_version": "1.2.0",
       "_view_name": "StyleView",
       "description_width": ""
      }
     },
     "82b4df2a90294a648e64ca7146db0d8c": {
      "model_module": "@jupyter-widgets/controls",
      "model_module_version": "1.5.0",
      "model_name": "DescriptionStyleModel",
      "state": {
       "_model_module": "@jupyter-widgets/controls",
       "_model_module_version": "1.5.0",
       "_model_name": "DescriptionStyleModel",
       "_view_count": null,
       "_view_module": "@jupyter-widgets/base",
       "_view_module_version": "1.2.0",
       "_view_name": "StyleView",
       "description_width": ""
      }
     },
     "88838a083da641bfb15b4b95f9b02a0d": {
      "model_module": "@jupyter-widgets/base",
      "model_module_version": "1.2.0",
      "model_name": "LayoutModel",
      "state": {
       "_model_module": "@jupyter-widgets/base",
       "_model_module_version": "1.2.0",
       "_model_name": "LayoutModel",
       "_view_count": null,
       "_view_module": "@jupyter-widgets/base",
       "_view_module_version": "1.2.0",
       "_view_name": "LayoutView",
       "align_content": null,
       "align_items": null,
       "align_self": null,
       "border": null,
       "bottom": null,
       "display": null,
       "flex": null,
       "flex_flow": null,
       "grid_area": null,
       "grid_auto_columns": null,
       "grid_auto_flow": null,
       "grid_auto_rows": null,
       "grid_column": null,
       "grid_gap": null,
       "grid_row": null,
       "grid_template_areas": null,
       "grid_template_columns": null,
       "grid_template_rows": null,
       "height": null,
       "justify_content": null,
       "justify_items": null,
       "left": null,
       "margin": null,
       "max_height": null,
       "max_width": null,
       "min_height": null,
       "min_width": null,
       "object_fit": null,
       "object_position": null,
       "order": null,
       "overflow": null,
       "overflow_x": null,
       "overflow_y": null,
       "padding": null,
       "right": null,
       "top": null,
       "visibility": null,
       "width": null
      }
     },
     "8c77c727448647789a83ab09e033d99d": {
      "model_module": "@jupyter-widgets/base",
      "model_module_version": "1.2.0",
      "model_name": "LayoutModel",
      "state": {
       "_model_module": "@jupyter-widgets/base",
       "_model_module_version": "1.2.0",
       "_model_name": "LayoutModel",
       "_view_count": null,
       "_view_module": "@jupyter-widgets/base",
       "_view_module_version": "1.2.0",
       "_view_name": "LayoutView",
       "align_content": null,
       "align_items": null,
       "align_self": null,
       "border": null,
       "bottom": null,
       "display": null,
       "flex": null,
       "flex_flow": null,
       "grid_area": null,
       "grid_auto_columns": null,
       "grid_auto_flow": null,
       "grid_auto_rows": null,
       "grid_column": null,
       "grid_gap": null,
       "grid_row": null,
       "grid_template_areas": null,
       "grid_template_columns": null,
       "grid_template_rows": null,
       "height": null,
       "justify_content": null,
       "justify_items": null,
       "left": null,
       "margin": null,
       "max_height": null,
       "max_width": null,
       "min_height": null,
       "min_width": null,
       "object_fit": null,
       "object_position": null,
       "order": null,
       "overflow": null,
       "overflow_x": null,
       "overflow_y": null,
       "padding": null,
       "right": null,
       "top": null,
       "visibility": null,
       "width": null
      }
     },
     "8e9f5ff6e17244b8a94e276004f95846": {
      "model_module": "@jupyter-widgets/controls",
      "model_module_version": "1.5.0",
      "model_name": "HTMLModel",
      "state": {
       "_dom_classes": [],
       "_model_module": "@jupyter-widgets/controls",
       "_model_module_version": "1.5.0",
       "_model_name": "HTMLModel",
       "_view_count": null,
       "_view_module": "@jupyter-widgets/controls",
       "_view_module_version": "1.5.0",
       "_view_name": "HTMLView",
       "description": "",
       "description_tooltip": null,
       "layout": "IPY_MODEL_37013e3292c4467cb625c5a2cb4a0efa",
       "placeholder": "​",
       "style": "IPY_MODEL_8287a36c2eda4a7d8b4acb456b82b285",
       "value": "Downloading (…)lve/main/config.json: 100%"
      }
     },
     "9162f3820fe34c3697cbb99a552a2d54": {
      "model_module": "@jupyter-widgets/controls",
      "model_module_version": "1.5.0",
      "model_name": "HBoxModel",
      "state": {
       "_dom_classes": [],
       "_model_module": "@jupyter-widgets/controls",
       "_model_module_version": "1.5.0",
       "_model_name": "HBoxModel",
       "_view_count": null,
       "_view_module": "@jupyter-widgets/controls",
       "_view_module_version": "1.5.0",
       "_view_name": "HBoxView",
       "box_style": "",
       "children": [
        "IPY_MODEL_0dd0f9e7fbef4908a2d8a6ae5dd0c0cc",
        "IPY_MODEL_f0eb6ebd9df7482ab336f8e280d1c8fe",
        "IPY_MODEL_17bd11fe2ad0435e9a781a9a383e34aa"
       ],
       "layout": "IPY_MODEL_81a7dc64554f4da2a60c1796b42a9cc0"
      }
     },
     "942abd5492c4441c8aca3cbf8f6277b7": {
      "model_module": "@jupyter-widgets/controls",
      "model_module_version": "1.5.0",
      "model_name": "HBoxModel",
      "state": {
       "_dom_classes": [],
       "_model_module": "@jupyter-widgets/controls",
       "_model_module_version": "1.5.0",
       "_model_name": "HBoxModel",
       "_view_count": null,
       "_view_module": "@jupyter-widgets/controls",
       "_view_module_version": "1.5.0",
       "_view_name": "HBoxView",
       "box_style": "",
       "children": [
        "IPY_MODEL_8e9f5ff6e17244b8a94e276004f95846",
        "IPY_MODEL_78c213c7966d431f98fa6a5c851033e1",
        "IPY_MODEL_4450b1eae8e840a7b2d2473120e25b32"
       ],
       "layout": "IPY_MODEL_953e56a655024d09bd9ef9e53cb7132b"
      }
     },
     "953e56a655024d09bd9ef9e53cb7132b": {
      "model_module": "@jupyter-widgets/base",
      "model_module_version": "1.2.0",
      "model_name": "LayoutModel",
      "state": {
       "_model_module": "@jupyter-widgets/base",
       "_model_module_version": "1.2.0",
       "_model_name": "LayoutModel",
       "_view_count": null,
       "_view_module": "@jupyter-widgets/base",
       "_view_module_version": "1.2.0",
       "_view_name": "LayoutView",
       "align_content": null,
       "align_items": null,
       "align_self": null,
       "border": null,
       "bottom": null,
       "display": null,
       "flex": null,
       "flex_flow": null,
       "grid_area": null,
       "grid_auto_columns": null,
       "grid_auto_flow": null,
       "grid_auto_rows": null,
       "grid_column": null,
       "grid_gap": null,
       "grid_row": null,
       "grid_template_areas": null,
       "grid_template_columns": null,
       "grid_template_rows": null,
       "height": null,
       "justify_content": null,
       "justify_items": null,
       "left": null,
       "margin": null,
       "max_height": null,
       "max_width": null,
       "min_height": null,
       "min_width": null,
       "object_fit": null,
       "object_position": null,
       "order": null,
       "overflow": null,
       "overflow_x": null,
       "overflow_y": null,
       "padding": null,
       "right": null,
       "top": null,
       "visibility": null,
       "width": null
      }
     },
     "97e285ea6f3a41f19659af9f1320df69": {
      "model_module": "@jupyter-widgets/base",
      "model_module_version": "1.2.0",
      "model_name": "LayoutModel",
      "state": {
       "_model_module": "@jupyter-widgets/base",
       "_model_module_version": "1.2.0",
       "_model_name": "LayoutModel",
       "_view_count": null,
       "_view_module": "@jupyter-widgets/base",
       "_view_module_version": "1.2.0",
       "_view_name": "LayoutView",
       "align_content": null,
       "align_items": null,
       "align_self": null,
       "border": null,
       "bottom": null,
       "display": null,
       "flex": null,
       "flex_flow": null,
       "grid_area": null,
       "grid_auto_columns": null,
       "grid_auto_flow": null,
       "grid_auto_rows": null,
       "grid_column": null,
       "grid_gap": null,
       "grid_row": null,
       "grid_template_areas": null,
       "grid_template_columns": null,
       "grid_template_rows": null,
       "height": null,
       "justify_content": null,
       "justify_items": null,
       "left": null,
       "margin": null,
       "max_height": null,
       "max_width": null,
       "min_height": null,
       "min_width": null,
       "object_fit": null,
       "object_position": null,
       "order": null,
       "overflow": null,
       "overflow_x": null,
       "overflow_y": null,
       "padding": null,
       "right": null,
       "top": null,
       "visibility": null,
       "width": null
      }
     },
     "a2f98fcee113498093e31f36879753be": {
      "model_module": "@jupyter-widgets/base",
      "model_module_version": "1.2.0",
      "model_name": "LayoutModel",
      "state": {
       "_model_module": "@jupyter-widgets/base",
       "_model_module_version": "1.2.0",
       "_model_name": "LayoutModel",
       "_view_count": null,
       "_view_module": "@jupyter-widgets/base",
       "_view_module_version": "1.2.0",
       "_view_name": "LayoutView",
       "align_content": null,
       "align_items": null,
       "align_self": null,
       "border": null,
       "bottom": null,
       "display": null,
       "flex": null,
       "flex_flow": null,
       "grid_area": null,
       "grid_auto_columns": null,
       "grid_auto_flow": null,
       "grid_auto_rows": null,
       "grid_column": null,
       "grid_gap": null,
       "grid_row": null,
       "grid_template_areas": null,
       "grid_template_columns": null,
       "grid_template_rows": null,
       "height": null,
       "justify_content": null,
       "justify_items": null,
       "left": null,
       "margin": null,
       "max_height": null,
       "max_width": null,
       "min_height": null,
       "min_width": null,
       "object_fit": null,
       "object_position": null,
       "order": null,
       "overflow": null,
       "overflow_x": null,
       "overflow_y": null,
       "padding": null,
       "right": null,
       "top": null,
       "visibility": null,
       "width": null
      }
     },
     "a4d5a8837cf647a68a218b7c09632a48": {
      "model_module": "@jupyter-widgets/base",
      "model_module_version": "1.2.0",
      "model_name": "LayoutModel",
      "state": {
       "_model_module": "@jupyter-widgets/base",
       "_model_module_version": "1.2.0",
       "_model_name": "LayoutModel",
       "_view_count": null,
       "_view_module": "@jupyter-widgets/base",
       "_view_module_version": "1.2.0",
       "_view_name": "LayoutView",
       "align_content": null,
       "align_items": null,
       "align_self": null,
       "border": null,
       "bottom": null,
       "display": null,
       "flex": null,
       "flex_flow": null,
       "grid_area": null,
       "grid_auto_columns": null,
       "grid_auto_flow": null,
       "grid_auto_rows": null,
       "grid_column": null,
       "grid_gap": null,
       "grid_row": null,
       "grid_template_areas": null,
       "grid_template_columns": null,
       "grid_template_rows": null,
       "height": null,
       "justify_content": null,
       "justify_items": null,
       "left": null,
       "margin": null,
       "max_height": null,
       "max_width": null,
       "min_height": null,
       "min_width": null,
       "object_fit": null,
       "object_position": null,
       "order": null,
       "overflow": null,
       "overflow_x": null,
       "overflow_y": null,
       "padding": null,
       "right": null,
       "top": null,
       "visibility": null,
       "width": null
      }
     },
     "a6c8a061cec54d6080be0307192ff045": {
      "model_module": "@jupyter-widgets/base",
      "model_module_version": "1.2.0",
      "model_name": "LayoutModel",
      "state": {
       "_model_module": "@jupyter-widgets/base",
       "_model_module_version": "1.2.0",
       "_model_name": "LayoutModel",
       "_view_count": null,
       "_view_module": "@jupyter-widgets/base",
       "_view_module_version": "1.2.0",
       "_view_name": "LayoutView",
       "align_content": null,
       "align_items": null,
       "align_self": null,
       "border": null,
       "bottom": null,
       "display": null,
       "flex": null,
       "flex_flow": null,
       "grid_area": null,
       "grid_auto_columns": null,
       "grid_auto_flow": null,
       "grid_auto_rows": null,
       "grid_column": null,
       "grid_gap": null,
       "grid_row": null,
       "grid_template_areas": null,
       "grid_template_columns": null,
       "grid_template_rows": null,
       "height": null,
       "justify_content": null,
       "justify_items": null,
       "left": null,
       "margin": null,
       "max_height": null,
       "max_width": null,
       "min_height": null,
       "min_width": null,
       "object_fit": null,
       "object_position": null,
       "order": null,
       "overflow": null,
       "overflow_x": null,
       "overflow_y": null,
       "padding": null,
       "right": null,
       "top": null,
       "visibility": null,
       "width": null
      }
     },
     "b32cfd6ee2064187ba1d51126040de5c": {
      "model_module": "@jupyter-widgets/controls",
      "model_module_version": "1.5.0",
      "model_name": "ProgressStyleModel",
      "state": {
       "_model_module": "@jupyter-widgets/controls",
       "_model_module_version": "1.5.0",
       "_model_name": "ProgressStyleModel",
       "_view_count": null,
       "_view_module": "@jupyter-widgets/base",
       "_view_module_version": "1.2.0",
       "_view_name": "StyleView",
       "bar_color": null,
       "description_width": ""
      }
     },
     "bc55fba450c4447ca9397806b9f8fb28": {
      "model_module": "@jupyter-widgets/base",
      "model_module_version": "1.2.0",
      "model_name": "LayoutModel",
      "state": {
       "_model_module": "@jupyter-widgets/base",
       "_model_module_version": "1.2.0",
       "_model_name": "LayoutModel",
       "_view_count": null,
       "_view_module": "@jupyter-widgets/base",
       "_view_module_version": "1.2.0",
       "_view_name": "LayoutView",
       "align_content": null,
       "align_items": null,
       "align_self": null,
       "border": null,
       "bottom": null,
       "display": null,
       "flex": null,
       "flex_flow": null,
       "grid_area": null,
       "grid_auto_columns": null,
       "grid_auto_flow": null,
       "grid_auto_rows": null,
       "grid_column": null,
       "grid_gap": null,
       "grid_row": null,
       "grid_template_areas": null,
       "grid_template_columns": null,
       "grid_template_rows": null,
       "height": null,
       "justify_content": null,
       "justify_items": null,
       "left": null,
       "margin": null,
       "max_height": null,
       "max_width": null,
       "min_height": null,
       "min_width": null,
       "object_fit": null,
       "object_position": null,
       "order": null,
       "overflow": null,
       "overflow_x": null,
       "overflow_y": null,
       "padding": null,
       "right": null,
       "top": null,
       "visibility": null,
       "width": null
      }
     },
     "bf57bde44b4f40cc9af2a3adac8a973c": {
      "model_module": "@jupyter-widgets/base",
      "model_module_version": "1.2.0",
      "model_name": "LayoutModel",
      "state": {
       "_model_module": "@jupyter-widgets/base",
       "_model_module_version": "1.2.0",
       "_model_name": "LayoutModel",
       "_view_count": null,
       "_view_module": "@jupyter-widgets/base",
       "_view_module_version": "1.2.0",
       "_view_name": "LayoutView",
       "align_content": null,
       "align_items": null,
       "align_self": null,
       "border": null,
       "bottom": null,
       "display": null,
       "flex": null,
       "flex_flow": null,
       "grid_area": null,
       "grid_auto_columns": null,
       "grid_auto_flow": null,
       "grid_auto_rows": null,
       "grid_column": null,
       "grid_gap": null,
       "grid_row": null,
       "grid_template_areas": null,
       "grid_template_columns": null,
       "grid_template_rows": null,
       "height": null,
       "justify_content": null,
       "justify_items": null,
       "left": null,
       "margin": null,
       "max_height": null,
       "max_width": null,
       "min_height": null,
       "min_width": null,
       "object_fit": null,
       "object_position": null,
       "order": null,
       "overflow": null,
       "overflow_x": null,
       "overflow_y": null,
       "padding": null,
       "right": null,
       "top": null,
       "visibility": null,
       "width": null
      }
     },
     "cba6d333135543c891ea18fc339e732c": {
      "model_module": "@jupyter-widgets/controls",
      "model_module_version": "1.5.0",
      "model_name": "DescriptionStyleModel",
      "state": {
       "_model_module": "@jupyter-widgets/controls",
       "_model_module_version": "1.5.0",
       "_model_name": "DescriptionStyleModel",
       "_view_count": null,
       "_view_module": "@jupyter-widgets/base",
       "_view_module_version": "1.2.0",
       "_view_name": "StyleView",
       "description_width": ""
      }
     },
     "d69a495d5f4b40479ed8b18dd403c8d0": {
      "model_module": "@jupyter-widgets/controls",
      "model_module_version": "1.5.0",
      "model_name": "DescriptionStyleModel",
      "state": {
       "_model_module": "@jupyter-widgets/controls",
       "_model_module_version": "1.5.0",
       "_model_name": "DescriptionStyleModel",
       "_view_count": null,
       "_view_module": "@jupyter-widgets/base",
       "_view_module_version": "1.2.0",
       "_view_name": "StyleView",
       "description_width": ""
      }
     },
     "d91fa634558449dc862ddc28b35e8249": {
      "model_module": "@jupyter-widgets/base",
      "model_module_version": "1.2.0",
      "model_name": "LayoutModel",
      "state": {
       "_model_module": "@jupyter-widgets/base",
       "_model_module_version": "1.2.0",
       "_model_name": "LayoutModel",
       "_view_count": null,
       "_view_module": "@jupyter-widgets/base",
       "_view_module_version": "1.2.0",
       "_view_name": "LayoutView",
       "align_content": null,
       "align_items": null,
       "align_self": null,
       "border": null,
       "bottom": null,
       "display": null,
       "flex": null,
       "flex_flow": null,
       "grid_area": null,
       "grid_auto_columns": null,
       "grid_auto_flow": null,
       "grid_auto_rows": null,
       "grid_column": null,
       "grid_gap": null,
       "grid_row": null,
       "grid_template_areas": null,
       "grid_template_columns": null,
       "grid_template_rows": null,
       "height": null,
       "justify_content": null,
       "justify_items": null,
       "left": null,
       "margin": null,
       "max_height": null,
       "max_width": null,
       "min_height": null,
       "min_width": null,
       "object_fit": null,
       "object_position": null,
       "order": null,
       "overflow": null,
       "overflow_x": null,
       "overflow_y": null,
       "padding": null,
       "right": null,
       "top": null,
       "visibility": null,
       "width": null
      }
     },
     "e04cc59bc30d4189852331de4e89f333": {
      "model_module": "@jupyter-widgets/controls",
      "model_module_version": "1.5.0",
      "model_name": "FloatProgressModel",
      "state": {
       "_dom_classes": [],
       "_model_module": "@jupyter-widgets/controls",
       "_model_module_version": "1.5.0",
       "_model_name": "FloatProgressModel",
       "_view_count": null,
       "_view_module": "@jupyter-widgets/controls",
       "_view_module_version": "1.5.0",
       "_view_name": "ProgressView",
       "bar_style": "success",
       "description": "",
       "description_tooltip": null,
       "layout": "IPY_MODEL_6670b7d167404820ad49e239f9ab6930",
       "max": 501200538.0,
       "min": 0.0,
       "orientation": "horizontal",
       "style": "IPY_MODEL_6aeebb48b0c5434bba12d60950d96eb5",
       "value": 501200538.0
      }
     },
     "e1c8ab3bb94641fdb1403df483c2a16c": {
      "model_module": "@jupyter-widgets/controls",
      "model_module_version": "1.5.0",
      "model_name": "ProgressStyleModel",
      "state": {
       "_model_module": "@jupyter-widgets/controls",
       "_model_module_version": "1.5.0",
       "_model_name": "ProgressStyleModel",
       "_view_count": null,
       "_view_module": "@jupyter-widgets/base",
       "_view_module_version": "1.2.0",
       "_view_name": "StyleView",
       "bar_color": null,
       "description_width": ""
      }
     },
     "e2f416af982843d988e518fb953c0dba": {
      "model_module": "@jupyter-widgets/controls",
      "model_module_version": "1.5.0",
      "model_name": "FloatProgressModel",
      "state": {
       "_dom_classes": [],
       "_model_module": "@jupyter-widgets/controls",
       "_model_module_version": "1.5.0",
       "_model_name": "FloatProgressModel",
       "_view_count": null,
       "_view_module": "@jupyter-widgets/controls",
       "_view_module_version": "1.5.0",
       "_view_name": "ProgressView",
       "bar_style": "success",
       "description": "",
       "description_tooltip": null,
       "layout": "IPY_MODEL_57ea3c19e081497bbe4694161f2a3819",
       "max": 456318.0,
       "min": 0.0,
       "orientation": "horizontal",
       "style": "IPY_MODEL_3cf781ec66c54ff5a2e5424b06166a1b",
       "value": 456318.0
      }
     },
     "e3b40535a0c2441bb5e29949ab1a708b": {
      "model_module": "@jupyter-widgets/controls",
      "model_module_version": "1.5.0",
      "model_name": "DescriptionStyleModel",
      "state": {
       "_model_module": "@jupyter-widgets/controls",
       "_model_module_version": "1.5.0",
       "_model_name": "DescriptionStyleModel",
       "_view_count": null,
       "_view_module": "@jupyter-widgets/base",
       "_view_module_version": "1.2.0",
       "_view_name": "StyleView",
       "description_width": ""
      }
     },
     "eb60f8d652b345039d405e1c6df37b68": {
      "model_module": "@jupyter-widgets/controls",
      "model_module_version": "1.5.0",
      "model_name": "HTMLModel",
      "state": {
       "_dom_classes": [],
       "_model_module": "@jupyter-widgets/controls",
       "_model_module_version": "1.5.0",
       "_model_name": "HTMLModel",
       "_view_count": null,
       "_view_module": "@jupyter-widgets/controls",
       "_view_module_version": "1.5.0",
       "_view_name": "HTMLView",
       "description": "",
       "description_tooltip": null,
       "layout": "IPY_MODEL_97e285ea6f3a41f19659af9f1320df69",
       "placeholder": "​",
       "style": "IPY_MODEL_2286337f20a64077ae7deac31caa87f6",
       "value": " 899k/899k [00:00&lt;00:00, 2.07MB/s]"
      }
     },
     "ee674f758c714ec0b35c5e9f77ffd734": {
      "model_module": "@jupyter-widgets/controls",
      "model_module_version": "1.5.0",
      "model_name": "DescriptionStyleModel",
      "state": {
       "_model_module": "@jupyter-widgets/controls",
       "_model_module_version": "1.5.0",
       "_model_name": "DescriptionStyleModel",
       "_view_count": null,
       "_view_module": "@jupyter-widgets/base",
       "_view_module_version": "1.2.0",
       "_view_name": "StyleView",
       "description_width": ""
      }
     },
     "f0eb6ebd9df7482ab336f8e280d1c8fe": {
      "model_module": "@jupyter-widgets/controls",
      "model_module_version": "1.5.0",
      "model_name": "FloatProgressModel",
      "state": {
       "_dom_classes": [],
       "_model_module": "@jupyter-widgets/controls",
       "_model_module_version": "1.5.0",
       "_model_name": "FloatProgressModel",
       "_view_count": null,
       "_view_module": "@jupyter-widgets/controls",
       "_view_module_version": "1.5.0",
       "_view_name": "ProgressView",
       "bar_style": "success",
       "description": "",
       "description_tooltip": null,
       "layout": "IPY_MODEL_719d9ad6370f4dbb9448fa2fd9d50ab9",
       "max": 1355863.0,
       "min": 0.0,
       "orientation": "horizontal",
       "style": "IPY_MODEL_4de20fc8e0dc4ec4a28a348f1eb9f0e0",
       "value": 1355863.0
      }
     },
     "f1908367c8484092a6412ff8f2e5ba91": {
      "model_module": "@jupyter-widgets/controls",
      "model_module_version": "1.5.0",
      "model_name": "DescriptionStyleModel",
      "state": {
       "_model_module": "@jupyter-widgets/controls",
       "_model_module_version": "1.5.0",
       "_model_name": "DescriptionStyleModel",
       "_view_count": null,
       "_view_module": "@jupyter-widgets/base",
       "_view_module_version": "1.2.0",
       "_view_name": "StyleView",
       "description_width": ""
      }
     },
     "f320002a863544b88a551eec5a88004e": {
      "model_module": "@jupyter-widgets/controls",
      "model_module_version": "1.5.0",
      "model_name": "HTMLModel",
      "state": {
       "_dom_classes": [],
       "_model_module": "@jupyter-widgets/controls",
       "_model_module_version": "1.5.0",
       "_model_name": "HTMLModel",
       "_view_count": null,
       "_view_module": "@jupyter-widgets/controls",
       "_view_module_version": "1.5.0",
       "_view_name": "HTMLView",
       "description": "",
       "description_tooltip": null,
       "layout": "IPY_MODEL_a4d5a8837cf647a68a218b7c09632a48",
       "placeholder": "​",
       "style": "IPY_MODEL_1abe8ccb5d044af1b2ceef1f7b9e193d",
       "value": " 456k/456k [00:00&lt;00:00, 1.07MB/s]"
      }
     },
     "fb20055d3ffc4c2a84be9f1256ea6d7a": {
      "model_module": "@jupyter-widgets/base",
      "model_module_version": "1.2.0",
      "model_name": "LayoutModel",
      "state": {
       "_model_module": "@jupyter-widgets/base",
       "_model_module_version": "1.2.0",
       "_model_name": "LayoutModel",
       "_view_count": null,
       "_view_module": "@jupyter-widgets/base",
       "_view_module_version": "1.2.0",
       "_view_name": "LayoutView",
       "align_content": null,
       "align_items": null,
       "align_self": null,
       "border": null,
       "bottom": null,
       "display": null,
       "flex": null,
       "flex_flow": null,
       "grid_area": null,
       "grid_auto_columns": null,
       "grid_auto_flow": null,
       "grid_auto_rows": null,
       "grid_column": null,
       "grid_gap": null,
       "grid_row": null,
       "grid_template_areas": null,
       "grid_template_columns": null,
       "grid_template_rows": null,
       "height": null,
       "justify_content": null,
       "justify_items": null,
       "left": null,
       "margin": null,
       "max_height": null,
       "max_width": null,
       "min_height": null,
       "min_width": null,
       "object_fit": null,
       "object_position": null,
       "order": null,
       "overflow": null,
       "overflow_x": null,
       "overflow_y": null,
       "padding": null,
       "right": null,
       "top": null,
       "visibility": null,
       "width": null
      }
     }
    },
    "version_major": 2,
    "version_minor": 0
   }
  }
 },
 "nbformat": 4,
 "nbformat_minor": 5
}
